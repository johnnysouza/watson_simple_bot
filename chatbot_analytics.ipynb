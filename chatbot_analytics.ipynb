{
 "cells": [
  {
   "cell_type": "markdown",
   "id": "portuguese-cooler",
   "metadata": {},
   "source": [
    "# Análise dos resultados obtidos pelo chatbot Birô de crédito"
   ]
  },
  {
   "cell_type": "code",
   "execution_count": 50,
   "id": "regular-priest",
   "metadata": {},
   "outputs": [],
   "source": [
    "import json\n",
    "import matplotlib.pyplot as plt\n",
    "import numpy as np\n",
    "import pandas as pd\n",
    "import pytz\n",
    "\n",
    "from datetime import datetime, date "
   ]
  },
  {
   "cell_type": "markdown",
   "id": "circular-logistics",
   "metadata": {},
   "source": [
    "##### Leitura dos dados de conversas exportadas do watson e transformação para um data frame"
   ]
  },
  {
   "cell_type": "code",
   "execution_count": 5,
   "id": "critical-tender",
   "metadata": {},
   "outputs": [
    {
     "name": "stdout",
     "output_type": "stream",
     "text": [
      "26\n",
      "0b788a9f-2ef3-4a4e-9d37-21521d2903a3: 5\n",
      "de06b5c5-c689-4832-9127-0b5581375183: 10\n",
      "1245e64d-756f-4e0b-b3af-6fd485a07c63: 1\n",
      "0fb0ee37-76aa-4cf4-8c1d-677ac8c9c92e: 2\n",
      "4b6c3631-5ddf-4765-b64d-fc4b8ef7ff18: 2\n",
      "c1f3c96b-ba32-4e5d-b85d-fd3b4a5bc8a9: 3\n",
      "fb9224ec-4909-4130-be37-2f0ca33ff9a9: 3\n"
     ]
    }
   ],
   "source": [
    "with open('output.json', 'r') as logs:\n",
    "    watson_data = json.load(logs)\n",
    "\n",
    "print(len(watson_data['logs']))\n",
    "\n",
    "logs_by_chat = {}\n",
    "ips = set()\n",
    "intents = {}\n",
    "fallback_count = 0\n",
    "csv_dict = {\n",
    "    'ip': [],\n",
    "    'conversation_id': [],\n",
    "    'fallback': [],\n",
    "    'detected_intent': [],\n",
    "    'intent_confidence': []\n",
    "}\n",
    "\n",
    "for log in watson_data['logs']:\n",
    "    request_date = datetime.strptime(log['request_timestamp'], '%Y-%m-%dT%H:%M:%S.%fZ').replace(tzinfo=pytz.timezone(\"UTC\")).astimezone(pytz.timezone(\"America/Sao_Paulo\"))\n",
    "\n",
    "    if request_date.date() > date(2021, 4, 1): \n",
    "        has_fallback = False\n",
    "        chat_id = log['request']['context']['conversation_id']\n",
    "        logs_by_chat.setdefault(chat_id, []).append(log)\n",
    "        ip = log['request']['context']['integrations']['chat']['browser_info']['client_ip_address']\n",
    "        ips.add(ip)\n",
    "        intent_info = {}\n",
    "\n",
    "        if log['response']['intents']:\n",
    "            intent_info = log['response']['intents'][0]\n",
    "            intents.setdefault(intent_info['intent'], []).append(intent_info['confidence'])\n",
    "\n",
    "        if log['response']['output'].get('internal'):\n",
    "            has_fallback = True\n",
    "            fallback_count += 1\n",
    "\n",
    "        csv_dict['ip'].append(ip)\n",
    "        csv_dict['conversation_id'].append(chat_id)\n",
    "        csv_dict['fallback'].append(has_fallback)\n",
    "        csv_dict['detected_intent'].append(intent_info.get('intent'))\n",
    "        csv_dict['intent_confidence'].append(intent_info.get('confidence'))"
   ]
  },
  {
   "cell_type": "markdown",
   "id": "cloudy-walnut",
   "metadata": {},
   "source": [
    "##### Pré-visualização das quantidades de mensagens por conversa"
   ]
  },
  {
   "cell_type": "code",
   "execution_count": 6,
   "id": "quiet-surname",
   "metadata": {},
   "outputs": [
    {
     "name": "stdout",
     "output_type": "stream",
     "text": [
      "0b788a9f-2ef3-4a4e-9d37-21521d2903a3: 5\n",
      "de06b5c5-c689-4832-9127-0b5581375183: 10\n",
      "1245e64d-756f-4e0b-b3af-6fd485a07c63: 1\n",
      "0fb0ee37-76aa-4cf4-8c1d-677ac8c9c92e: 2\n",
      "4b6c3631-5ddf-4765-b64d-fc4b8ef7ff18: 2\n",
      "c1f3c96b-ba32-4e5d-b85d-fd3b4a5bc8a9: 3\n",
      "fb9224ec-4909-4130-be37-2f0ca33ff9a9: 3\n"
     ]
    }
   ],
   "source": [
    "for chat_id in logs_by_chat:\n",
    "    print(f\"{chat_id}: {len(logs_by_chat[chat_id])}\")"
   ]
  },
  {
   "cell_type": "code",
   "execution_count": 7,
   "id": "labeled-cookbook",
   "metadata": {},
   "outputs": [
    {
     "data": {
      "text/html": [
       "<div>\n",
       "<style scoped>\n",
       "    .dataframe tbody tr th:only-of-type {\n",
       "        vertical-align: middle;\n",
       "    }\n",
       "\n",
       "    .dataframe tbody tr th {\n",
       "        vertical-align: top;\n",
       "    }\n",
       "\n",
       "    .dataframe thead th {\n",
       "        text-align: right;\n",
       "    }\n",
       "</style>\n",
       "<table border=\"1\" class=\"dataframe\">\n",
       "  <thead>\n",
       "    <tr style=\"text-align: right;\">\n",
       "      <th></th>\n",
       "      <th>ip</th>\n",
       "      <th>conversation_id</th>\n",
       "      <th>fallback</th>\n",
       "      <th>detected_intent</th>\n",
       "      <th>intent_confidence</th>\n",
       "    </tr>\n",
       "  </thead>\n",
       "  <tbody>\n",
       "    <tr>\n",
       "      <th>0</th>\n",
       "      <td>177.130.232.136</td>\n",
       "      <td>0b788a9f-2ef3-4a4e-9d37-21521d2903a3</td>\n",
       "      <td>False</td>\n",
       "      <td>None</td>\n",
       "      <td>NaN</td>\n",
       "    </tr>\n",
       "    <tr>\n",
       "      <th>1</th>\n",
       "      <td>45.169.176.208</td>\n",
       "      <td>de06b5c5-c689-4832-9127-0b5581375183</td>\n",
       "      <td>False</td>\n",
       "      <td>None</td>\n",
       "      <td>NaN</td>\n",
       "    </tr>\n",
       "    <tr>\n",
       "      <th>2</th>\n",
       "      <td>45.169.176.208</td>\n",
       "      <td>de06b5c5-c689-4832-9127-0b5581375183</td>\n",
       "      <td>False</td>\n",
       "      <td>negociar_divida</td>\n",
       "      <td>0.91571</td>\n",
       "    </tr>\n",
       "    <tr>\n",
       "      <th>3</th>\n",
       "      <td>177.130.232.136</td>\n",
       "      <td>1245e64d-756f-4e0b-b3af-6fd485a07c63</td>\n",
       "      <td>False</td>\n",
       "      <td>None</td>\n",
       "      <td>NaN</td>\n",
       "    </tr>\n",
       "    <tr>\n",
       "      <th>4</th>\n",
       "      <td>45.169.176.208</td>\n",
       "      <td>de06b5c5-c689-4832-9127-0b5581375183</td>\n",
       "      <td>False</td>\n",
       "      <td>None</td>\n",
       "      <td>NaN</td>\n",
       "    </tr>\n",
       "  </tbody>\n",
       "</table>\n",
       "</div>"
      ],
      "text/plain": [
       "                ip                       conversation_id  fallback  \\\n",
       "0  177.130.232.136  0b788a9f-2ef3-4a4e-9d37-21521d2903a3     False   \n",
       "1   45.169.176.208  de06b5c5-c689-4832-9127-0b5581375183     False   \n",
       "2   45.169.176.208  de06b5c5-c689-4832-9127-0b5581375183     False   \n",
       "3  177.130.232.136  1245e64d-756f-4e0b-b3af-6fd485a07c63     False   \n",
       "4   45.169.176.208  de06b5c5-c689-4832-9127-0b5581375183     False   \n",
       "\n",
       "   detected_intent  intent_confidence  \n",
       "0             None                NaN  \n",
       "1             None                NaN  \n",
       "2  negociar_divida            0.91571  \n",
       "3             None                NaN  \n",
       "4             None                NaN  "
      ]
     },
     "execution_count": 7,
     "metadata": {},
     "output_type": "execute_result"
    }
   ],
   "source": [
    "df = pd.DataFrame(data=csv_dict)\n",
    "df.head()"
   ]
  },
  {
   "cell_type": "markdown",
   "id": "verbal-chemistry",
   "metadata": {},
   "source": [
    "##### Indicador retenção, usuários que voltaram a utilizar o bot"
   ]
  },
  {
   "cell_type": "code",
   "execution_count": 8,
   "id": "coated-savannah",
   "metadata": {},
   "outputs": [
    {
     "data": {
      "text/html": [
       "<div>\n",
       "<style scoped>\n",
       "    .dataframe tbody tr th:only-of-type {\n",
       "        vertical-align: middle;\n",
       "    }\n",
       "\n",
       "    .dataframe tbody tr th {\n",
       "        vertical-align: top;\n",
       "    }\n",
       "\n",
       "    .dataframe thead th {\n",
       "        text-align: right;\n",
       "    }\n",
       "</style>\n",
       "<table border=\"1\" class=\"dataframe\">\n",
       "  <thead>\n",
       "    <tr style=\"text-align: right;\">\n",
       "      <th></th>\n",
       "      <th>ip</th>\n",
       "      <th>unique_conversations_count</th>\n",
       "    </tr>\n",
       "  </thead>\n",
       "  <tbody>\n",
       "    <tr>\n",
       "      <th>0</th>\n",
       "      <td>177.130.232.136</td>\n",
       "      <td>6</td>\n",
       "    </tr>\n",
       "    <tr>\n",
       "      <th>1</th>\n",
       "      <td>45.169.176.208</td>\n",
       "      <td>1</td>\n",
       "    </tr>\n",
       "  </tbody>\n",
       "</table>\n",
       "</div>"
      ],
      "text/plain": [
       "                ip  unique_conversations_count\n",
       "0  177.130.232.136                           6\n",
       "1   45.169.176.208                           1"
      ]
     },
     "execution_count": 8,
     "metadata": {},
     "output_type": "execute_result"
    }
   ],
   "source": [
    "user_retentition = df.groupby('ip').agg({'conversation_id': 'nunique'}).reset_index()\n",
    "user_retentition = user_retentition.rename(columns={'conversation_id': 'unique_conversations_count'})\n",
    "user_retentition.head()"
   ]
  },
  {
   "cell_type": "code",
   "execution_count": 9,
   "id": "executive-subscription",
   "metadata": {},
   "outputs": [
    {
     "data": {
      "text/html": [
       "<div>\n",
       "<style scoped>\n",
       "    .dataframe tbody tr th:only-of-type {\n",
       "        vertical-align: middle;\n",
       "    }\n",
       "\n",
       "    .dataframe tbody tr th {\n",
       "        vertical-align: top;\n",
       "    }\n",
       "\n",
       "    .dataframe thead th {\n",
       "        text-align: right;\n",
       "    }\n",
       "</style>\n",
       "<table border=\"1\" class=\"dataframe\">\n",
       "  <thead>\n",
       "    <tr style=\"text-align: right;\">\n",
       "      <th></th>\n",
       "      <th>ip</th>\n",
       "      <th>unique_conversations_count</th>\n",
       "      <th>retained_user</th>\n",
       "    </tr>\n",
       "  </thead>\n",
       "  <tbody>\n",
       "    <tr>\n",
       "      <th>0</th>\n",
       "      <td>177.130.232.136</td>\n",
       "      <td>6</td>\n",
       "      <td>True</td>\n",
       "    </tr>\n",
       "    <tr>\n",
       "      <th>1</th>\n",
       "      <td>45.169.176.208</td>\n",
       "      <td>1</td>\n",
       "      <td>False</td>\n",
       "    </tr>\n",
       "  </tbody>\n",
       "</table>\n",
       "</div>"
      ],
      "text/plain": [
       "                ip  unique_conversations_count  retained_user\n",
       "0  177.130.232.136                           6           True\n",
       "1   45.169.176.208                           1          False"
      ]
     },
     "execution_count": 9,
     "metadata": {},
     "output_type": "execute_result"
    }
   ],
   "source": [
    "user_retentition['retained_user'] = user_retentition.apply(lambda x: x['unique_conversations_count'] > 1, axis=1)\n",
    "user_retentition.head()"
   ]
  },
  {
   "cell_type": "code",
   "execution_count": 10,
   "id": "intermediate-repository",
   "metadata": {},
   "outputs": [
    {
     "name": "stdout",
     "output_type": "stream",
     "text": [
      "Quantidade de usuários que voltaram a utilizar o bot: 1\n"
     ]
    }
   ],
   "source": [
    "print(f\"Quantidade de usuários que voltaram a utilizar o bot: {user_retentition.loc[user_retentition['retained_user']].shape[0]}\")"
   ]
  },
  {
   "cell_type": "code",
   "execution_count": 27,
   "id": "herbal-ceiling",
   "metadata": {},
   "outputs": [
    {
     "data": {
      "text/plain": [
       "False    1\n",
       "True     1\n",
       "Name: retained_user, dtype: int64"
      ]
     },
     "execution_count": 27,
     "metadata": {},
     "output_type": "execute_result"
    }
   ],
   "source": [
    "user_retentition.retained_user.value_counts()"
   ]
  },
  {
   "cell_type": "code",
   "execution_count": 29,
   "id": "twelve-press",
   "metadata": {},
   "outputs": [
    {
     "data": {
      "image/png": "[encoded data removed]",
      "text/plain": [
       "<Figure size 432x288 with 1 Axes>"
      ]
     },
     "metadata": {},
     "output_type": "display_data"
    }
   ],
   "source": [
    "labels = ['Usuários não retidos', 'Usuário retidos']\n",
    "data = list(user_retentition.retained_user.value_counts())\n",
    "\n",
    "_, ax = plt.subplots()\n",
    "ax.pie(data, labels=labels, autopct='%1.1f%%',\n",
    "        shadow=True, startangle=90)\n",
    "ax.axis('equal')\n",
    "\n",
    "plt.show()"
   ]
  },
  {
   "cell_type": "markdown",
   "id": "progressive-tyler",
   "metadata": {},
   "source": [
    "##### Indicador taxa conversas com fallback"
   ]
  },
  {
   "cell_type": "code",
   "execution_count": 11,
   "id": "undefined-protest",
   "metadata": {},
   "outputs": [
    {
     "name": "stdout",
     "output_type": "stream",
     "text": [
      "Taxa de conversas com fallback: 28.57%\n"
     ]
    }
   ],
   "source": [
    "conversations_by_fallback = df.groupby('conversation_id')['fallback'].sum().astype(bool).reset_index()\n",
    "fallback_metric = (conversations_by_fallback[conversations_by_fallback['fallback']].shape[0] * 100) / conversations_by_fallback.shape[0]\n",
    "print(f\"Taxa de conversas com fallback: {fallback_metric:.2f}%\")"
   ]
  },
  {
   "cell_type": "code",
   "execution_count": 33,
   "id": "danish-chassis",
   "metadata": {},
   "outputs": [
    {
     "data": {
      "text/plain": [
       "False    5\n",
       "True     2\n",
       "Name: fallback, dtype: int64"
      ]
     },
     "execution_count": 33,
     "metadata": {},
     "output_type": "execute_result"
    }
   ],
   "source": [
    "conversations_by_fallback.fallback.value_counts()"
   ]
  },
  {
   "cell_type": "code",
   "execution_count": 51,
   "id": "composed-victorian",
   "metadata": {},
   "outputs": [
    {
     "data": {
      "image/png": "[encoded data removed]",
      "text/plain": [
       "<Figure size 432x288 with 1 Axes>"
      ]
     },
     "metadata": {},
     "output_type": "display_data"
    }
   ],
   "source": [
    "labels = ['Conversas com sucesso', 'Conversas com fallback']\n",
    "data = list(conversations_by_fallback.fallback.value_counts())\n",
    "\n",
    "_, ax = plt.subplots()\n",
    "ax.pie(data, labels=labels, autopct='%1.1f%%',\n",
    "        shadow=True, startangle=90)\n",
    "ax.axis('equal')\n",
    "\n",
    "plt.show()"
   ]
  },
  {
   "cell_type": "markdown",
   "id": "instructional-belly",
   "metadata": {},
   "source": [
    "##### Média de mensagens por atendimento"
   ]
  },
  {
   "cell_type": "code",
   "execution_count": 64,
   "id": "rental-penetration",
   "metadata": {},
   "outputs": [
    {
     "name": "stdout",
     "output_type": "stream",
     "text": [
      "Média de mensagens por atendimento: 3.71\n"
     ]
    }
   ],
   "source": [
    "mean_message_count_by_conversation = df.groupby('conversation_id')['conversation_id'].count().mean()\n",
    "print(f\"Média de mensagens por atendimento: {mean_message_count_by_conversation:.2f}\")"
   ]
  },
  {
   "cell_type": "code",
   "execution_count": 68,
   "id": "awful-space",
   "metadata": {},
   "outputs": [
    {
     "data": {
      "image/png": "[encoded data removed]",
      "text/plain": [
       "<Figure size 432x288 with 1 Axes>"
      ]
     },
     "metadata": {
      "needs_background": "light"
     },
     "output_type": "display_data"
    }
   ],
   "source": [
    "chat_ids = list(df.groupby('conversation_id').groups.keys())\n",
    "y_pos = np.arange(len(chat_ids))\n",
    "messages_by_chat = list(df.groupby('conversation_id')['conversation_id'].count())\n",
    "\n",
    "_, ax = plt.subplots()\n",
    "ax.barh(y_pos, messages_by_chat, align='center')\n",
    "ax.set_yticks(y_pos)\n",
    "ax.set_yticklabels(chat_ids)\n",
    "ax.invert_yaxis()\n",
    "ax.set_xlabel('Mensagens por conversa')\n",
    "ax.set_title('Média de mensagens por atendimento')\n",
    "ax.axvline(mean_message_count_by_conversation, color='red', linewidth=2)\n",
    "ax.text(mean_message_count_by_conversation + 0.2, 3, f\"Média = {mean_message_count_by_conversation:.2f}\", color='red')\n",
    "\n",
    "plt.show()"
   ]
  },
  {
   "cell_type": "code",
   "execution_count": null,
   "id": "waiting-division",
   "metadata": {},
   "outputs": [],
   "source": []
  }
 ],
 "metadata": {
  "kernelspec": {
   "display_name": "Python 3",
   "language": "python",
   "name": "python3"
  },
  "language_info": {
   "codemirror_mode": {
    "name": "ipython",
    "version": 3
   },
   "file_extension": ".py",
   "mimetype": "text/x-python",
   "name": "python",
   "nbconvert_exporter": "python",
   "pygments_lexer": "ipython3",
   "version": "3.8.9"
  }
 },
 "nbformat": 4,
 "nbformat_minor": 5
}
